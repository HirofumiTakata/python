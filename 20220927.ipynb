{
  "nbformat": 4,
  "nbformat_minor": 0,
  "metadata": {
    "colab": {
      "provenance": [],
      "collapsed_sections": [],
      "authorship_tag": "ABX9TyODClnJzbpzJTk83sNxG8BL",
      "include_colab_link": true
    },
    "kernelspec": {
      "name": "python3",
      "display_name": "Python 3"
    },
    "language_info": {
      "name": "python"
    }
  },
  "cells": [
    {
      "cell_type": "markdown",
      "metadata": {
        "id": "view-in-github",
        "colab_type": "text"
      },
      "source": [
        "<a href=\"https://colab.research.google.com/github/HirofumiTakata/python/blob/main/20220927.ipynb\" target=\"_parent\"><img src=\"https://colab.research.google.com/assets/colab-badge.svg\" alt=\"Open In Colab\"/></a>"
      ]
    },
    {
      "cell_type": "code",
      "execution_count": 25,
      "metadata": {
        "colab": {
          "base_uri": "https://localhost:8080/"
        },
        "id": "2Ttx27BdtAv9",
        "outputId": "4da82974-19fa-4788-e619-3dde241f2959"
      },
      "outputs": [
        {
          "output_type": "stream",
          "name": "stdout",
          "text": [
            "　　　　　　　　　　　　　　　　　　*\n",
            "　　　　　　　　　　　　　　　　***\n",
            "　　　　　　　　　　　　　　*****\n",
            "　　　　　　　　　　　　*******\n",
            "　　　　　　　　　　*********\n",
            "　　　　　　　　***********\n",
            "　　　　　　*************\n",
            "　　　　***************\n",
            "　　*****************\n",
            "*******************\n"
          ]
        }
      ],
      "source": [
        "size = 10\n",
        "\n",
        "for i in range(size):\n",
        "    for j in range(size, i+1, -1):\n",
        "        print('　　', end='')\n",
        "\n",
        "    for k in range(2 * (i - 1) + 3):\n",
        "        print('*', end='')\n",
        "\n",
        "    print()"
      ]
    }
  ]
}