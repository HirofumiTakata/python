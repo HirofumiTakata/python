{
  "nbformat": 4,
  "nbformat_minor": 0,
  "metadata": {
    "colab": {
      "provenance": [],
      "collapsed_sections": [],
      "authorship_tag": "ABX9TyNVaSzrxr6hkz8GSt7kAxo4",
      "include_colab_link": true
    },
    "kernelspec": {
      "name": "python3",
      "display_name": "Python 3"
    },
    "language_info": {
      "name": "python"
    }
  },
  "cells": [
    {
      "cell_type": "markdown",
      "metadata": {
        "id": "view-in-github",
        "colab_type": "text"
      },
      "source": [
        "<a href=\"https://colab.research.google.com/github/HirofumiTakata/python/blob/main/20220927.ipynb\" target=\"_parent\"><img src=\"https://colab.research.google.com/assets/colab-badge.svg\" alt=\"Open In Colab\"/></a>"
      ]
    },
    {
      "cell_type": "code",
      "execution_count": 10,
      "metadata": {
        "colab": {
          "base_uri": "https://localhost:8080/"
        },
        "id": "2Ttx27BdtAv9",
        "outputId": "6b8c9177-4c67-4d3f-b4b2-20fe4a2b698f"
      },
      "outputs": [
        {
          "output_type": "stream",
          "name": "stdout",
          "text": [
            "　　　　　　　　　　　　　　　　　　*1\n",
            "　　　　　　　　　　　　　　　　***3\n",
            "　　　　　　　　　　　　　　*****5\n",
            "　　　　　　　　　　　　*******7\n",
            "　　　　　　　　　　*********9\n",
            "　　　　　　　　***********11\n",
            "　　　　　　*************13\n",
            "　　　　***************15\n",
            "　　*****************17\n",
            "*******************19\n"
          ]
        }
      ],
      "source": [
        "size = 10\n",
        "\n",
        "for i in range(size):\n",
        "    for j in range(size, i+1, -1):\n",
        "        print('　　', end='')\n",
        "\n",
        "    for k in range(2 * (i - 1) + 3):\n",
        "        print('*', end='')\n",
        "\n",
        "    print()"
      ]
    },
    {
      "cell_type": "markdown",
      "source": [
        "range(start, stop[, step])\n",
        "\n",
        "=> (start + n) * step"
      ],
      "metadata": {
        "id": "hoUq493IxaZi"
      }
    },
    {
      "cell_type": "code",
      "source": [
        "for i in range(10):\n",
        "    print(i)\n",
        "\n",
        "for j in range(10, 1+0, -1):\n",
        "    print('^', end='') # end: printでデータを出力した後(末尾)に出力するものを指定\n",
        "\n",
        "for k in range(2 * (0 -1) + 3): # 2n - 1 => 2n - 4 + 3 => 2(n - 1) + 3 \n",
        "    print('*', end='')"
      ],
      "metadata": {
        "id": "iDbM7zMzyvdC",
        "outputId": "8e49e027-db38-4b9d-dce5-5578c581bacc",
        "colab": {
          "base_uri": "https://localhost:8080/"
        }
      },
      "execution_count": 7,
      "outputs": [
        {
          "output_type": "stream",
          "name": "stdout",
          "text": [
            "0\n",
            "1\n",
            "2\n",
            "3\n",
            "4\n",
            "5\n",
            "6\n",
            "7\n",
            "8\n",
            "9\n",
            "^^^^^^^^^*"
          ]
        }
      ]
    }
  ]
}